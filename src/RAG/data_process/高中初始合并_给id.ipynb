{
 "cells": [
  {
   "cell_type": "code",
   "execution_count": null,
   "metadata": {},
   "outputs": [],
   "source": [
    "import time\n",
    "import json\n",
    "import os\n",
    "import re\n",
    "from typing import List, Dict, Union\n",
    "from tqdm import tqdm\n",
    "\n",
    "\n",
    "\n",
    "\n",
    "import sys\n",
    "sys.path.append(\"/hpc2hdd/home/fye374/ZWZ_Other/quizmanus/src\")\n",
    "from utils import (\n",
    "    getData,\n",
    "    saveData,\n",
    "    get_absolute_file_paths,\n",
    "    get_json_result\n",
    ")\n"
   ]
  },
  {
   "cell_type": "code",
   "execution_count": null,
   "metadata": {},
   "outputs": [],
   "source": [
    "absolute_dir = \"/hpc2hdd/home/fye374/ZWZ_Other/quizmanus/dataset/课本md/高中/md\"\n",
    "file_type = \"json\"\n",
    "abs_paths = get_absolute_file_paths(absolute_dir,file_type)"
   ]
  },
  {
   "cell_type": "code",
   "execution_count": null,
   "metadata": {},
   "outputs": [],
   "source": [
    "\n",
    "import string\n",
    "import random\n",
    "random.seed(42)\n",
    "def generate_random_string(length=15):\n",
    "    # 定义字符集：小写字母 + 数字\n",
    "    characters = string.ascii_lowercase + string.digits\n",
    "    # 随机选择字符并拼接成字符串\n",
    "    random_string = ''.join(random.choice(characters) for _ in range(length))\n",
    "    return random_string"
   ]
  },
  {
   "cell_type": "code",
   "execution_count": null,
   "metadata": {},
   "outputs": [],
   "source": [
    "res = []\n",
    "max_l = 0\n",
    "for path in abs_paths:\n",
    "    for item in getData(path):\n",
    "        subject = path.split(\".json\")[0].split(\"/\")[-1].split()[0]\n",
    "        grade = path.split(\".json\")[0].split(\"/\")[-1].split()[1]\n",
    "        max_l = max(max_l,len(item['content'].split()))\n",
    "        res.append({\"id\":generate_random_string(20),**item,\"grade\":grade,\"subject\":subject})"
   ]
  },
  {
   "cell_type": "code",
   "execution_count": null,
   "metadata": {},
   "outputs": [],
   "source": [
    "len(res)\n"
   ]
  },
  {
   "cell_type": "code",
   "execution_count": null,
   "metadata": {},
   "outputs": [],
   "source": [
    "repeat_set = set()\n",
    "for item in res:\n",
    "    if item['id'] not in repeat_set:\n",
    "        repeat_set.add(item['id'])\n",
    "    else:\n",
    "        print(\"repeat\")"
   ]
  },
  {
   "cell_type": "code",
   "execution_count": null,
   "metadata": {},
   "outputs": [],
   "source": [
    "import ast\n",
    "import json_repair\n",
    "import json\n",
    "text = \"\"\"245245245254```json{\n",
    "    \"课外内容\": \"国际格局的多极化演变：历史进程与当代挑战\\\\n\\\\n一、后冷战时期单极体系的特征与局限\\\\n冷战结束后形成的单极体系呈现显著不对称性：美国在1991年至2008年间保持着GDP占全球总量28%-32%的经济优势，军费开支长期占全球总量40%以上。这种优势体现在三个方面：1) 北约东扩使军事同盟体系覆盖32国；2) 美元在全球外汇储备占比最高达72%；3) 科技研发投入占OECD国家总和38%。但单极体系面临内生性矛盾：2003年伊拉克战争引发的国际舆论危机、2008年金融危机暴露的监管缺陷、以及软实力指标持续下滑（据波特兰软实力30指数，美国从2015年第1位降至2023年第4位）。\\\\n\\\\n二、传统力量中心的转型重构\\\\n欧盟通过《里斯本条约》(2009)强化共同外交机制，建立欧洲对外行动署，其单一市场扩容至27国、5.1亿人口，GDP总量(2023)达18.3万亿美元。日本推进\"俯瞰地球仪外交\"，主导CPTPP协定覆盖11国、GDP总量13.5万亿美元。俄罗斯实施欧亚经济联盟战略，能源出口占政府收入45%，通过叙利亚军事行动重塑地区影响力。这些行为体在气候变化、数字治理等领域形成特色议程。\\\\n\\\\n三、新兴经济体的结构性变革\\\\n金砖国家扩员后涵盖23.5亿人口（占全球29%），经济总量达30.8万亿美元（占全球31%）。其创新驱动特征显著：中国研发投入占GDP2.4%，印度班加罗尔成为全球第四大科技集群，巴西生物燃料技术占全球市场份额22%。新开发银行已批准96个项目，总额332亿美元，重点投向清洁能源和基础设施。这种变革引发国际机制调整：IMF份额改革使新兴市场投票权提升6%，WTO争端解决机制案件来源地多元化指数从2000年的0.41升至2022年的0.68。\\\\n\\\\n四、多极化进程的范式创新\\\\n新型多极化呈现网络化特征：1) 区域组织交叉重叠（东盟与RCEP、非盟与AfCFTA）；2) 议题联盟兴起（国际太阳能联盟、海洋塑料公约）；3) 决策机制多元化（G20峰会议程设置权分散）。但面临三重挑战：全球公共产品供给赤字持续扩大，技术标准竞争加剧（5G专利分布离散度增加），以及国际法碎片化趋势（现存550余个双边投资条约存在条款冲突）。未来秩序演进将取决于数字治理规则构建、气候融资机制改革等关键领域的制度创新。\"\n",
    "}1111111111111111```\"\"\"\n",
    "\n"
   ]
  },
  {
   "cell_type": "code",
   "execution_count": null,
   "metadata": {},
   "outputs": [],
   "source": [
    "json_repair.loads(text)['课外内容']"
   ]
  },
  {
   "cell_type": "code",
   "execution_count": null,
   "metadata": {},
   "outputs": [],
   "source": [
    "# import threading\n",
    "# import time\n",
    "\n",
    "# def dummy_thread():\n",
    "#     time.sleep(60)\n",
    "\n",
    "# threads = []\n",
    "# try:\n",
    "#     for i in range(1, 10000):\n",
    "#         t = threading.Thread(target=dummy_thread)\n",
    "#         t.start()\n",
    "#         threads.append(t)\n",
    "#         print(f\"Created thread {i}\")\n",
    "# except Exception as e:\n",
    "#     print(f\"Failed at thread {i}: {e}\")"
   ]
  },
  {
   "cell_type": "code",
   "execution_count": 49,
   "metadata": {},
   "outputs": [
    {
     "name": "stdout",
     "output_type": "stream",
     "text": [
      "7\n"
     ]
    }
   ],
   "source": [
    "import threading\n",
    "print(threading.active_count())  # 当前活跃线程数"
   ]
  },
  {
   "cell_type": "code",
   "execution_count": null,
   "metadata": {},
   "outputs": [],
   "source": [
    "def repair_json_output(content: str) -> str:\n",
    "    \"\"\"\n",
    "    修复和规范化 JSON 输出。\n",
    "\n",
    "    Args:\n",
    "        content (str): 可能包含 JSON 的字符串内容\n",
    "\n",
    "    Returns:\n",
    "        str: 修复后的 JSON 字符串，如果不是 JSON 则返回原始内容\n",
    "    \"\"\"\n",
    "    content = content.strip()\n",
    "    if content.startswith((\"{\", \"[\")) or \"```json\" in content:\n",
    "        try:\n",
    "            # 如果内容被包裹在```json代码块中，提取JSON部分\n",
    "            if content.startswith(\"```json\"):\n",
    "                content = content.removeprefix(\"```json\")\n",
    "\n",
    "            if content.endswith(\"```\"):\n",
    "                content = content.removesuffix(\"```\")\n",
    "\n",
    "            # 尝试修复并解析JSON\n",
    "            repaired_content = json_repair.loads(content)\n",
    "            return json.dumps(repaired_content)\n",
    "        except Exception as e:\n",
    "            print(e)\n",
    "            # logger.warning(f\"JSON repair failed: {e}\")\n",
    "    return content"
   ]
  },
  {
   "cell_type": "code",
   "execution_count": null,
   "metadata": {},
   "outputs": [],
   "source": [
    "eval(repair_json_output(text))"
   ]
  },
  {
   "cell_type": "code",
   "execution_count": null,
   "metadata": {},
   "outputs": [],
   "source": [
    "saveData(res,\"/hpc2hdd/home/fye374/ZWZ_Other/quizmanus/dataset/课本md/高中/md/合并/merge.json\")"
   ]
  },
  {
   "cell_type": "code",
   "execution_count": null,
   "metadata": {},
   "outputs": [],
   "source": [
    "# spilt = int(len(final_res)*0.85)\n",
    "# train = final_res[:spilt]\n",
    "# test = final_res[spilt:]"
   ]
  },
  {
   "cell_type": "code",
   "execution_count": null,
   "metadata": {},
   "outputs": [],
   "source": [
    "# saveData(train,\"/hpc2hdd/home/fye374/ZWZ_Other/quizmanus/dataset/sft/gaokao/data/train.json\")\n",
    "# saveData(test,\"/hpc2hdd/home/fye374/ZWZ_Other/quizmanus/dataset/sft/gaokao/data/test.json\")"
   ]
  },
  {
   "cell_type": "code",
   "execution_count": 5,
   "metadata": {},
   "outputs": [
    {
     "name": "stdout",
     "output_type": "stream",
     "text": [
      "===== a (<think>内容) =====\n",
      "好的，我现在需要根据用户提供的课本内容和课外内容生成一道高考单选题。首先，我要仔细阅读课本内容，明确四个主权国家的基本权利：独立权、管辖权、平等权、自卫权，以及它们的定义。然后看课外内容提供的实例，这些例子对应了各个权利的具体应用场景。\n",
      "\n",
      "接下来，我的任务是结合课本知识和课外实例来设计题目。题目应该覆盖课本定义，并通过实际案例来考察学生的理解。需要确保题干清晰，选项具有干扰性，但正确答案明确，解析要详细说明各个选项的对错原因。\n",
      "\n",
      "首先，确定考点：区分四个基本权利，尤其是独立权和管辖权的区别。课外内容中提到印度尼西亚拒绝外国干预镍矿政策，这明显属于独立权的例子，因为独立权涉及处理内政外交不受干涉。另外，孟晚舟案中加拿大和中国分别应用属地管辖和属人管辖权，这涉及到管辖权的问题。而选项需要排除其他权利的可能，比如平等权或自卫权。\n",
      "\n",
      "接下来，构造题干，引用课外内容中的实例，比如印尼的例子，询问这属于哪个权利的行使。选项应包括四个权利，确保正确选项是独立权，其他选项为干扰项，如管辖权（属地或属人）、平等权（国际地位平等）、自卫权（自我防御）。\n",
      "\n",
      "然后，检查解析部分是否明确，需要解释为什么选独立权，因为印尼是在维护经济自主权，不受他国干涉，而其他选项如管辖权可能涉及对境内事务的管理，但这里强调的是拒绝外部干涉，因此属于独立权。\n",
      "\n",
      "同时，需确保题目不脱离课本内容，紧密围绕课本中的定义，课外例子只是辅助。还要验证答案是否符合课本定义，解析是否逻辑合理，没有矛盾。\n",
      "\n",
      "最后，确认格式是否正确，题干、四个选项、参考答案和解析都齐全，并且用用户指定的格式输出，不使用Markdown，保持语言一致。\n",
      "\n",
      "===== b (JSON字典) =====\n",
      "{ \n",
      "    \"题干、参考答案、解析\": \"题干：2023年不结盟运动峰会上，印度尼西亚公开拒绝大国干预其镍矿出口政策，并援引《联合国宪章》相关条款维护自身权益。这一做法主要体现了主权国家基本权利中的哪一项？  \n",
      "A. 管辖权——对境内资源实施全面管理  \n",
      "B. 自卫权——防御外部经济制裁威胁  \n",
      "C. 独立权——自主决定经济政策不受干涉  \n",
      "D. 平等权——在国际组织中享有对等话语权  \n",
      "参考答案：C  \n",
      "解析：C正确，独立权指主权国家自主处理内政外交事务的权利。印度尼西亚拒绝外部干预镍矿政策，强调经济自主权，符合独立权定义。A选项管辖权侧重境内人和物的实际管辖，而印尼案例核心是反对外部干涉；B选项自卫权涉及军事防御，与案例性质不符；D选项平等权强调国际法地位平等，而案例重点是国家政策自主性。\"  \n",
      "}\n",
      "JSON 解析失败: Invalid control character at: line 2 column 104 (char 106)\n"
     ]
    }
   ],
   "source": [
    "import re\n",
    "\n",
    "text = '''<think>\n",
    "好的，我现在需要根据用户提供的课本内容和课外内容生成一道高考单选题。首先，我要仔细阅读课本内容，明确四个主权国家的基本权利：独立权、管辖权、平等权、自卫权，以及它们的定义。然后看课外内容提供的实例，这些例子对应了各个权利的具体应用场景。\n",
    "\n",
    "接下来，我的任务是结合课本知识和课外实例来设计题目。题目应该覆盖课本定义，并通过实际案例来考察学生的理解。需要确保题干清晰，选项具有干扰性，但正确答案明确，解析要详细说明各个选项的对错原因。\n",
    "\n",
    "首先，确定考点：区分四个基本权利，尤其是独立权和管辖权的区别。课外内容中提到印度尼西亚拒绝外国干预镍矿政策，这明显属于独立权的例子，因为独立权涉及处理内政外交不受干涉。另外，孟晚舟案中加拿大和中国分别应用属地管辖和属人管辖权，这涉及到管辖权的问题。而选项需要排除其他权利的可能，比如平等权或自卫权。\n",
    "\n",
    "接下来，构造题干，引用课外内容中的实例，比如印尼的例子，询问这属于哪个权利的行使。选项应包括四个权利，确保正确选项是独立权，其他选项为干扰项，如管辖权（属地或属人）、平等权（国际地位平等）、自卫权（自我防御）。\n",
    "\n",
    "然后，检查解析部分是否明确，需要解释为什么选独立权，因为印尼是在维护经济自主权，不受他国干涉，而其他选项如管辖权可能涉及对境内事务的管理，但这里强调的是拒绝外部干涉，因此属于独立权。\n",
    "\n",
    "同时，需确保题目不脱离课本内容，紧密围绕课本中的定义，课外例子只是辅助。还要验证答案是否符合课本定义，解析是否逻辑合理，没有矛盾。\n",
    "\n",
    "最后，确认格式是否正确，题干、四个选项、参考答案和解析都齐全，并且用用户指定的格式输出，不使用Markdown，保持语言一致。\n",
    "</think>\n",
    "\n",
    "{ \n",
    "    \"题干、参考答案、解析\": \"题干：2023年不结盟运动峰会上，印度尼西亚公开拒绝大国干预其镍矿出口政策，并援引《联合国宪章》相关条款维护自身权益。这一做法主要体现了主权国家基本权利中的哪一项？  \\nA. 管辖权——对境内资源实施全面管理  \\nB. 自卫权——防御外部经济制裁威胁  \\nC. 独立权——自主决定经济政策不受干涉  \\nD. 平等权——在国际组织中享有对等话语权  \\n参考答案：C  \\n解析：C正确，独立权指主权国家自主处理内政外交事务的权利。印度尼西亚拒绝外部干预镍矿政策，强调经济自主权，符合独立权定义。A选项管辖权侧重境内人和物的实际管辖，而印尼案例核心是反对外部干涉；B选项自卫权涉及军事防御，与案例性质不符；D选项平等权强调国际法地位平等，而案例重点是国家政策自主性。\"  \n",
    "}'''\n",
    "\n",
    "# 提取 <think> 内的内容（多行模式 re.DOTALL）\n",
    "a = re.search(r'<think>(.*?)</think>', text, re.DOTALL)\n",
    "if a:\n",
    "    a = a.group(1).strip()  # 去除首尾空白\n",
    "else:\n",
    "    a = \"\"\n",
    "\n",
    "# 提取 <think> 后面的内容（即字典部分）\n",
    "b = text.split('</think>')[-1].strip()\n",
    "\n",
    "print(\"===== a (<think>内容) =====\")\n",
    "print(a)\n",
    "\n",
    "print(\"\\n===== b (JSON字典) =====\")\n",
    "print(b)\n",
    "\n",
    "# 如果需要将 b 转为 Python 字典\n",
    "import json\n",
    "try:\n",
    "    b_dict = json.loads(b)\n",
    "    print(\"\\n===== 解析后的字典 =====\")\n",
    "    print(b_dict)\n",
    "except json.JSONDecodeError as e:\n",
    "    print(\"JSON 解析失败:\", e)"
   ]
  },
  {
   "cell_type": "code",
   "execution_count": 3,
   "metadata": {},
   "outputs": [],
   "source": [
    "import re\n",
    "think = re.findall(r'<think>(.*?)</think>', res)\n",
    "if think:\n",
    "    think = think[0]  # 取第一个匹配结果\n",
    "else:\n",
    "    think = \"\"  # 如果没有匹配到，设为空\n",
    "\n",
    "# 提取 <think></think> 后面的内容作为 b\n",
    "content = re.sub(r'<think>.*?</think>', '', res).strip()"
   ]
  },
  {
   "cell_type": "code",
   "execution_count": 4,
   "metadata": {},
   "outputs": [
    {
     "data": {
      "text/plain": [
       "''"
      ]
     },
     "execution_count": 4,
     "metadata": {},
     "output_type": "execute_result"
    }
   ],
   "source": [
    "think"
   ]
  }
 ],
 "metadata": {
  "kernelspec": {
   "display_name": "Python 3.12.9 ('langmanus': conda)",
   "language": "python",
   "name": "python3"
  },
  "language_info": {
   "codemirror_mode": {
    "name": "ipython",
    "version": 3
   },
   "file_extension": ".py",
   "mimetype": "text/x-python",
   "name": "python",
   "nbconvert_exporter": "python",
   "pygments_lexer": "ipython3",
   "version": "3.12.9"
  },
  "orig_nbformat": 4,
  "vscode": {
   "interpreter": {
    "hash": "6826872b2e90c4a5b89db49ae6de9319427673b2cab0f057a3d6baa327072350"
   }
  }
 },
 "nbformat": 4,
 "nbformat_minor": 2
}
