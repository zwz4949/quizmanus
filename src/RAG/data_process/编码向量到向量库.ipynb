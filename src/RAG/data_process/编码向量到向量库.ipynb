{
 "cells": [
  {
   "cell_type": "code",
   "execution_count": 12,
   "metadata": {},
   "outputs": [],
   "source": [
    "import sys\n",
    "sys.path.append('/hpc2hdd/home/fye374/ZWZ_Other/quizmanus/src/RAG')\n",
    "from vector_store_utils import *\n",
    "import sys\n",
    "sys.path.append('/hpc2hdd/home/fye374/ZWZ_Other/quizmanus/src')\n",
    "from utils import *"
   ]
  },
  {
   "cell_type": "code",
   "execution_count": 13,
   "metadata": {},
   "outputs": [
    {
     "data": {
      "text/plain": [
       "{'id': 'qvrr9a7mfp059p452bfs',\n",
       " 'title': '# 独立权 管辖权 平等权 自卫权',\n",
       " 'content': '\\n◆ 独立权，是指主权国家拥有按照自己的意志处理内政、外交事务而不受他国控制和干涉的权利。  \\n\\n◆ 管辖权，是指主权国家对其领域内的一切人和物具有管辖的权利。  \\n\\n◆ 平等权，是指主权国家不论大小、强弱，也不论政治、经济、意识形态和社会制度有何差异，在国际法上的地位一律平等。  \\n\\n◆ 自卫权，是指主权国家拥有保卫自己的生存和独立的权利。  \\n',\n",
       " 'grade': '选择性必修1',\n",
       " 'subject': '高中政治',\n",
       " 'modify_content': '独立权，是指主权国家拥有按照自己的意志处理内政、外交事务而不受他国控制和干涉的权利。\\n\\n管辖权，是指主权国家对其领域内的一切人和物具有管辖的权利。\\n\\n平等权，是指主权国家不论大小、强弱，也不论政治、经济、意识形态和社会制度有何差异，在国际法上的地位一律平等。\\n\\n自卫权，是指主权国家拥有保卫自己的生存和独立的权利。',\n",
       " '课本内容': '独立权，是指主权国家拥有按照自己的意志处理内政、外交事务而不受他国控制和干涉的权利。\\n\\n管辖权，是指主权国家对其领域内的一切人和物具有管辖的权利。\\n\\n平等权，是指主权国家不论大小、强弱，也不论政治、经济、意识形态和社会制度有何差异，在国际法上的地位一律平等。\\n\\n自卫权，是指主权国家拥有保卫自己的生存和独立的权利。',\n",
       " '课外内容': '在国际法框架下，主权国家四大基本权利的现实实践具有多维度的体现。以独立权为例，2023年不结盟运动峰会上，印度尼西亚公开拒绝大国干预其镍矿出口政策，援引《联合国宪章》第二条第七款阐明其经济自主权。管辖权在孟晚舟引渡案中得到具象化呈现：加拿大依据属地管辖原则实施司法程序，而中国则启动领事保护机制主张属人管辖权，该案件成为研究国家管辖权竞合冲突的经典案例。平等权的当代实践体现于2022年联合国大会表决俄国决议草案时，圣多美和普林西比（人口21万）与印度（13亿人口）享有同等表决权重，这一制度设计深刻反映了主权平等原则。自卫权的法律边界在2020年伊朗圣城旅指挥官苏莱曼尼遇袭事件中引发全球讨论，多国法学家援引《联合国宪章》第51条，就预防性自卫的合法性展开激烈辩论。日内瓦国际关系研究院2023年报告指出，四大权利在实践中存在重叠与张力，如美国依据《云法案》主张数据跨境管辖权时，常与他国独立权产生冲突，这种现象推动着国际法体系的动态演进。'}"
      ]
     },
     "execution_count": 13,
     "metadata": {},
     "output_type": "execute_result"
    }
   ],
   "source": [
    "alll = getData(\"/hpc2hdd/home/fye374/ZWZ_Other/quizmanus/dataset/课本md/高中/md/合并/2.加课外内容.json\")\n",
    "alll[0]"
   ]
  },
  {
   "cell_type": "code",
   "execution_count": 14,
   "metadata": {},
   "outputs": [
    {
     "data": {
      "text/plain": [
       "4107"
      ]
     },
     "execution_count": 14,
     "metadata": {},
     "output_type": "execute_result"
    }
   ],
   "source": [
    "len(alll)"
   ]
  },
  {
   "cell_type": "code",
   "execution_count": 15,
   "metadata": {},
   "outputs": [],
   "source": [
    "data_type = \"从全部数据导入\"\n",
    "import os\n",
    "if data_type == \"从未清洗数据得到\":\n",
    "    subjects = [\"高中生物\",\"高中历史\",\"高中地理\",\"高中政治\"]\n",
    "    all_res  = []\n",
    "    all_text = []\n",
    "    for sub in subjects:\n",
    "        paths = get_absolute_file_paths(os.path.join(\"/hpc2hdd/home/fye374/ZWZ_Other/quizmanus/dataset/课本md/初中\",sub),\"json\")\n",
    "        for path in paths:\n",
    "            grade = path.split(\"/\")[-1].split(\" \")[-1].split(\".\")[0]\n",
    "            res = getData(path)\n",
    "            new_res = []\n",
    "            new_text = []\n",
    "            for item in res:\n",
    "                new_res.append({\"subject\":sub,\"grade\":grade,\"title\":item['title'].strip(),\"content\":item['content'].strip()})\n",
    "                new_text.append(item['content'].strip())\n",
    "            all_res.extend(new_res)\n",
    "            all_text.extend(new_text)\n",
    "else:\n",
    "    alll = getData(\"/hpc2hdd/home/fye374/ZWZ_Other/quizmanus/dataset/课本md/高中/md/合并/2.加课外内容.json\")\n",
    "    all_res  = []\n",
    "    all_text = []\n",
    "    for item in alll:\n",
    "        all_res.append({\"subject\":item['subject'].strip(),\"grade\":item['grade'].strip(),\"title\":item['title'].strip(),\"content\":item['课本内容'].strip()})\n",
    "        all_text.append(item['content'].strip())\n",
    "\n"
   ]
  },
  {
   "cell_type": "code",
   "execution_count": 16,
   "metadata": {},
   "outputs": [
    {
     "name": "stderr",
     "output_type": "stream",
     "text": [
      "pre tokenize: 100%|██████████| 257/257 [00:00<00:00, 459.45it/s]\n",
      "You're using a XLMRobertaTokenizerFast tokenizer. Please note that with a fast tokenizer, using the `__call__` method is faster than using a method to encode the text followed by a call to the `pad` method to get a padded encoding.\n",
      "Inference Embeddings: 100%|██████████| 257/257 [00:35<00:00,  7.30it/s]\n"
     ]
    }
   ],
   "source": [
    "from milvus_model.hybrid import BGEM3EmbeddingFunction\n",
    "\n",
    "ef = BGEM3EmbeddingFunction(\n",
    "    model_name = \"/hpc2hdd/home/fye374/models/BAAI/bge-m3\",\n",
    "    use_fp16=False, \n",
    "    device=\"cuda:0\")\n",
    "dense_dim = ef.dim[\"dense\"]\n",
    "\n",
    "docs_embeddings = ef(all_text)\n"
   ]
  },
  {
   "cell_type": "code",
   "execution_count": 17,
   "metadata": {},
   "outputs": [],
   "source": [
    "import sys\n",
    "sys.path.append(\"/hpc2hdd/home/fye374/ZWZ_Other/quizmanus\")\n",
    "from src.config.rag import DB_URI,COLLECTION_NAME\n",
    "from src.RAG.vector_store_utils import *\n",
    "db_uri = DB_URI\n",
    "col_name = COLLECTION_NAME\n",
    "col = get_collection(db_uri,col_name)"
   ]
  },
  {
   "cell_type": "code",
   "execution_count": null,
   "metadata": {},
   "outputs": [],
   "source": [
    "# collection_info = col.describe()\n",
    "# # collection_info"
   ]
  },
  {
   "cell_type": "code",
   "execution_count": null,
   "metadata": {},
   "outputs": [],
   "source": [
    "# iterator = col.query_iterator(\n",
    "#     batch_size=10,\n",
    "#     expr=None,\n",
    "#     output_fields=[\"subject\"]\n",
    "# )\n",
    "\n",
    "# value_set = set()\n",
    "\n",
    "# while True:\n",
    "#     result = iterator.next()\n",
    "#     if not result:\n",
    "#         iterator.close()\n",
    "#         break\n",
    "    \n",
    "#     for item in result:\n",
    "#         value_set.add(item[\"subject\"])\n",
    "# col.release()"
   ]
  },
  {
   "cell_type": "code",
   "execution_count": null,
   "metadata": {},
   "outputs": [],
   "source": [
    "# value_set"
   ]
  },
  {
   "cell_type": "code",
   "execution_count": 18,
   "metadata": {},
   "outputs": [
    {
     "name": "stdout",
     "output_type": "stream",
     "text": [
      "collection subjects already exists, 直接返回已有subjects\n"
     ]
    }
   ],
   "source": [
    "col = create_collection(db_uri,col_name, dense_dim)"
   ]
  },
  {
   "cell_type": "code",
   "execution_count": null,
   "metadata": {},
   "outputs": [],
   "source": [
    "all_res[0]"
   ]
  },
  {
   "cell_type": "code",
   "execution_count": 19,
   "metadata": {},
   "outputs": [
    {
     "name": "stderr",
     "output_type": "stream",
     "text": [
      "100%|██████████| 4107/4107 [00:49<00:00, 83.30it/s] "
     ]
    },
    {
     "name": "stdout",
     "output_type": "stream",
     "text": [
      "添加成功\n"
     ]
    },
    {
     "name": "stderr",
     "output_type": "stream",
     "text": [
      "\n"
     ]
    }
   ],
   "source": [
    "add_data(col, all_res,docs_embeddings)"
   ]
  },
  {
   "cell_type": "markdown",
   "metadata": {},
   "source": [
    "# 检索示例"
   ]
  },
  {
   "cell_type": "code",
   "execution_count": null,
   "metadata": {},
   "outputs": [],
   "source": [
    "print("
   ]
  },
  {
   "cell_type": "code",
   "execution_count": 20,
   "metadata": {},
   "outputs": [],
   "source": [
    "from milvus_model.hybrid import BGEM3EmbeddingFunction\n",
    "\n",
    "ef = BGEM3EmbeddingFunction(\n",
    "    model_name = \"/hpc2hdd/home/fye374/models/BAAI/bge-m3\",\n",
    "    use_fp16=False, \n",
    "    device=\"cuda:0\")"
   ]
  },
  {
   "cell_type": "code",
   "execution_count": 21,
   "metadata": {},
   "outputs": [
    {
     "name": "stderr",
     "output_type": "stream",
     "text": [
      "You're using a XLMRobertaTokenizerFast tokenizer. Please note that with a fast tokenizer, using the `__call__` method is faster than using a method to encode the text followed by a call to the `pad` method to get a padded encoding.\n"
     ]
    }
   ],
   "source": [
    "# query = input(\"Enter your search query: \")\n",
    "# print(query)\n",
    "query = \"生物微分子\"\n",
    "query_embeddings = ef([query])\n"
   ]
  },
  {
   "cell_type": "code",
   "execution_count": 22,
   "metadata": {},
   "outputs": [],
   "source": [
    "import sys\n",
    "sys.path.append('/hpc2hdd/home/fye374/ZWZ_Other/quizmanus/src/RAG')\n",
    "from retrieval import *\n",
    "from reranker import *"
   ]
  },
  {
   "cell_type": "code",
   "execution_count": 23,
   "metadata": {},
   "outputs": [],
   "source": [
    "db_uri = \"/hpc2hdd/home/fye374/ZWZ_Other/quizmanus/src/RAG/vector_store/subjects.db\"\n",
    "col_name = \"subjects\"\n",
    "col = get_collection(db_uri,col_name)\n",
    "dense_results = dense_search(col, query_embeddings[\"dense\"][0])\n",
    "sparse_results = sparse_search(col, query_embeddings[\"sparse\"]._getrow(0))\n",
    "hybrid_results = hybrid_search(\n",
    "    col,\n",
    "    query_embeddings[\"dense\"][0],\n",
    "    query_embeddings[\"sparse\"]._getrow(0),\n",
    "    sparse_weight=0.7,\n",
    "    dense_weight=1.0,\n",
    ")\n",
    "# /hpc2hdd/home/fye374/ZWZ_Other/quizmanus/src/RAG/vector_store"
   ]
  },
  {
   "cell_type": "code",
   "execution_count": 24,
   "metadata": {},
   "outputs": [
    {
     "name": "stderr",
     "output_type": "stream",
     "text": [
      "You're using a XLMRobertaTokenizerFast tokenizer. Please note that with a fast tokenizer, using the `__call__` method is faster than using a method to encode the text followed by a call to the `pad` method to get a padded encoding.\n"
     ]
    },
    {
     "data": {
      "text/plain": [
       "['微生物是难以用肉眼观察的微小生物的统称，包括细菌、真菌、病毒及一些原生生物等。本章中提及的微生物主要指用于发酵的细菌和真菌。',\n",
       " '微生物是难以用肉眼观察的微小生物的统称，包括细菌、真菌、病毒及一些原生生物等。本章中提及的微生物主要指用于发酵的细菌和真菌。  \\n\\n图1-6 盛有液体培养基的锥形瓶（左）和长有酵母菌菌落的固体培养基（右）  \\n\\n为什么培养基需要氮源？',\n",
       " '科学家访谈 探究微观生命世界的奥秘与施一公院士一席谈第 1 章 走近细胞.第 1 节 细胞是生命活动的基本单位..第2 节 细胞的多样性和统一性..探究・实践 使用高倍显微镜观察几种细胞.生物科技进展 人工合成生命的探索. 12  \\n\\n\\n第 2 章 组成细胞的分子. 15  \\n第1 节 细胞中的元素和化合物.... ..16  \\n探究・实践 检测生物组织中的糖类、脂肪和蛋白质.........18  \\n第2 节 细胞中的无机物..... ..20  \\n第 3 节 细胞中的糖类和脂质..... ..23  \\n第4 节 蛋白质是生命活动的主要承担者... ..28  \\n生物科学史话 世界上第一个人工合成蛋白质的诞生.........33  \\n第5 节 核酸是遗传信息的携带者...... ..34  \\n\\n\\n\\n第 3 章 细胞的基本结构. （第 1 节 细胞膜的结构和功能. 40第 2 节 细胞器之间的分工合作..  \\n\\n探究・实践 用高倍显微镜观察叶绿体和细胞质的流动.....50  \\n第3 节 细胞核的结构和功能. 54  \\n探究・实践 尝试制作真核细胞的三维结构模型 57  \\n生物科技进展 世界上首例体细胞克隆猴的诞生. 58  \\n第 4 章 细胞的物质输入和输出 61  \\n第1 节 被动运输. 62  \\n探究・实践 探究植物细胞的吸水和失水.... 64  \\n生物科学史话 人类对通道蛋白的探索历程.... .68  \\n第2 节 主动运输与胞吞、胞吐.... .69']"
      ]
     },
     "execution_count": 24,
     "metadata": {},
     "output_type": "execute_result"
    }
   ],
   "source": [
    "rerank(query, hybrid_results)"
   ]
  },
  {
   "cell_type": "code",
   "execution_count": 25,
   "metadata": {},
   "outputs": [
    {
     "data": {
      "text/plain": [
       "['微生物是难以用肉眼观察的微小生物的统称，包括细菌、真菌、病毒及一些原生生物等。本章中提及的微生物主要指用于发酵的细菌和真菌。  \\n\\n图1-6 盛有液体培养基的锥形瓶（左）和长有酵母菌菌落的固体培养基（右）  \\n\\n为什么培养基需要氮源？',\n",
       " '微生物是难以用肉眼观察的微小生物的统称，包括细菌、真菌、病毒及一些原生生物等。本章中提及的微生物主要指用于发酵的细菌和真菌。',\n",
       " '蛋白质的基本单位是氨基酸，组成核酸的基本单位是核苷酸，这些基本单位称为单体。每一个单体都以若干个相连的碳原子构成的碳链为基本骨架。生物大分子是由许多单体连接成的多聚体（图2-17），因此，生物大分子也是以碳链为基本骨架的。正是由于碳原子在组成生物大分子中的重要作用，科学家才说“碳是生命的核心元素”“没有碳，就没有生命”。  \\n\\n图2-17   生物大分子是由许多单体连接成的多聚体  \\n\\n以碳链为骨架的多糖、蛋白质、核酸等生物大分子，构成细胞生命大厦的基本框架；糖类和脂质提供了生命活动的重要能源；水和无机盐与其他物质一起，共同承担着构建细胞、参与细胞生命活动等重要功能。细胞中的这些化合物，含量和比例处在不断变化之中，但又保持相对稳定，以保证细胞生命活动的正常进行。',\n",
       " '蛋白质的基本单位是氨基酸，组成核酸的基本单位是核苷酸，这些基本单位称为单体。每一个单体都以若干个相连的碳原子构成的碳链为基本骨架。生物大分子是由许多单体连接成的多聚体，因此，生物大分子也是以碳链为基本骨架的。正是由于碳原子在组成生物大分子中的重要作用，科学家才说“碳是生命的核心元素”“没有碳，就没有生命”。\\n\\n以碳链为骨架的多糖、蛋白质、核酸等生物大分子，构成细胞生命大厦的基本框架；糖类和脂质提供了生命活动的重要能源；水和无机盐与其他物质一起，共同承担着构建细胞、参与细胞生命活动等重要功能。细胞中的这些化合物，含量和比例处在不断变化之中，但又保持相对稳定，以保证细胞生命活动的正常进行。',\n",
       " '在自然界中，微生物的种类远远超过动植物的种类。科学家预测，目前在实验室里能够培养的微生物的种类还不到自然界中存在的微生物种类的1%，甚至更低。在如此庞大的微生物王国里，研究者如何获得目标菌种呢？  \\n\\n过去，人们通过手工操作来进行筛选，不仅费时费力，而且大大限制了筛选量。微  \\n\\n生物菌种的高通量筛选以有多个小孔的微孔板为载体，采用自动化的操作系统，并以灵敏、快速的检测仪器采集  \\n\\n\\n实验数据，用计算机分析处理数据，从而实现了在同一时间对上千份，甚至上万份的样品进行筛选。筛选的对象可以是从自然界分离的菌株，可以是诱变产生的菌株，也可以是通过生物技术改造的菌株。  \\n\\n以高通量筛选某种高产突变菌种为例。研究人员首先会将经诱变处理的菌液分成上千份，然后把它们全部接种到含有培养基的微孔板中培养，一段时间后检测培养物中产物的产量，再挑选高产的菌株进行复筛……在这个过程中，最关键的是建立高通量的培养和分析检测平台。研究人员往往需要开发合适的培养基，对微生物进行微型化培养以及利用多种检测技术来测定菌株的各项生理生化指标等。目前，已经开发出了一些微型生物反应器，它们就像一套小型的发酵罐，体积一般小于100 mL，能实现对pH、溶解氧等重要发酵参数的实时监测。  \\n\\n一套理想的微生物菌种高通量筛选流  \\n程是高度自动化和集成化的，整个流程中培  \\n养基的制备和分装、菌液的稀释和涂布、菌  \\n体的培养和保藏、单克隆的识别和挑选、微  \\n生物及其代谢物的分析和检测以及数据的  \\n集成和管理等环节都体现着高通量技术的应用。虽然目前离这个目标还有一定的距离，筛选的装置和技术也都还要不断改  \\n\\n微孔板  \\n\\n进，但是微生物菌种的高通量筛选无疑是微生物研究领域的一场技术革命，也是研究成果走向工程化发展道路的强大催化剂。  \\n\\n除了微生物菌种的高通量筛选，高通量筛选技术还在微生物药物的筛选方面发挥了积极的作用。我国科学家已成功构建了一系列高通量微生物药物筛选模型，并获得了一批具有生物活性的候选药物。  \\n\\n高通量筛选装置（局部）',\n",
       " '在自然界中，微生物的种类远远超过动植物的种类。科学家预测，目前在实验室里能够培养的微生物的种类还不到自然界中存在的微生物种类的1%，甚至更低。微生物菌种的高通量筛选以有多个小孔的微孔板为载体，采用自动化的操作系统，并以灵敏、快速的检测仪器采集实验数据，用计算机分析处理数据，从而实现了在同一时间对上千份，甚至上万份的样品进行筛选。筛选的对象可以是从自然界分离的菌株，可以是诱变产生的菌株，也可以是通过生物技术改造的菌株。\\n\\n以高通量筛选某种高产突变菌种为例。研究人员首先会将经诱变处理的菌液分成上千份，然后把它们全部接种到含有培养基的微孔板中培养，一段时间后检测培养物中产物的产量，再挑选高产的菌株进行复筛。在这个过程中，最关键的是建立高通量的培养和分析检测平台。研究人员往往需要开发合适的培养基，对微生物进行微型化培养以及利用多种检测技术来测定菌株的各项生理生化指标等。目前，已经开发出了一些微型生物反应器，它们体积一般小于100 mL，能实现对pH、溶解氧等重要发酵参数的实时监测。\\n\\n一套理想的微生物菌种高通量筛选流程是高度自动化和集成化的，整个流程中培养基的制备和分装、菌液的稀释和涂布、菌体的培养和保藏、单克隆的识别和挑选、微生物及其代谢物的分析和检测以及数据的集成和管理等环节都体现着高通量技术的应用。虽然目前离这个目标还有一定距离，但微生物菌种的高通量筛选是微生物研究领域的技术革命，也是研究成果走向工程化发展的催化剂。\\n\\n除了微生物菌种的高通量筛选，该技术还在微生物药物筛选方面发挥了积极作用。我国科学家已成功构建了一系列高通量微生物药物筛选模型，并获得了一批具有生物活性的候选药物。',\n",
       " '科学家访谈 探究微观生命世界的奥秘与施一公院士一席谈第 1 章 走近细胞.第 1 节 细胞是生命活动的基本单位..第2 节 细胞的多样性和统一性..探究・实践 使用高倍显微镜观察几种细胞.生物科技进展 人工合成生命的探索. 12  \\n\\n\\n第 2 章 组成细胞的分子. 15  \\n第1 节 细胞中的元素和化合物.... ..16  \\n探究・实践 检测生物组织中的糖类、脂肪和蛋白质.........18  \\n第2 节 细胞中的无机物..... ..20  \\n第 3 节 细胞中的糖类和脂质..... ..23  \\n第4 节 蛋白质是生命活动的主要承担者... ..28  \\n生物科学史话 世界上第一个人工合成蛋白质的诞生.........33  \\n第5 节 核酸是遗传信息的携带者...... ..34  \\n\\n\\n\\n第 3 章 细胞的基本结构. （第 1 节 细胞膜的结构和功能. 40第 2 节 细胞器之间的分工合作..  \\n\\n探究・实践 用高倍显微镜观察叶绿体和细胞质的流动.....50  \\n第3 节 细胞核的结构和功能. 54  \\n探究・实践 尝试制作真核细胞的三维结构模型 57  \\n生物科技进展 世界上首例体细胞克隆猴的诞生. 58  \\n第 4 章 细胞的物质输入和输出 61  \\n第1 节 被动运输. 62  \\n探究・实践 探究植物细胞的吸水和失水.... 64  \\n生物科学史话 人类对通道蛋白的探索历程.... .68  \\n第2 节 主动运输与胞吞、胞吐.... .69',\n",
       " '第1章 走近细胞：第1节 细胞是生命活动的基本单位，第2节 细胞的多样性和统一性。第2章 组成细胞的分子：第1节 细胞中的元素和化合物，第2节 细胞中的无机物，第3节 细胞中的糖类和脂质，第4节 蛋白质是生命活动的主要承担者，第5节 核酸是遗传信息的携带者。第3章 细胞的基本结构：第1节 细胞膜的结构和功能，第2节 细胞器之间的分工合作，第3节 细胞核的结构和功能。第4章 细胞的物质输入和输出：第1节 被动运输，第2节 主动运输与胞吞、胞吐。',\n",
       " '通过本章的学习，应在以下几方面得到发展。  \\n\\n●\\u2002 阐明细胞和生物体的各种生命活动都有其物质基础，初步形成生命的物质观，为辩证唯物主义世界观的形成奠定基础。  \\n\\n●\\u2002 说明组成细胞的物质具有特殊性，蛋白质和核酸等生物大分子是生物所特有的，它们既是生命赖以存在的物质，也是生命活动的产物，据此进一步阐明生命的物质观。  \\n\\n●\\u2002 说明蛋白质、核酸等物质在细胞中的功能是由其组成和结构决定的，初步形成结构与功能相适应的观念，并能运用这一观念分析相关的生物学问题。  \\n\\n●\\u2002 关注糖类、脂质等物质的过量摄入对健康的影响，在改进自己膳食行为的同时，向他人宣传有关的营养保健知识。',\n",
       " '细胞是由多种元素和化合物构成的。在构成细胞的化合物中，多糖、蛋白质、核酸都是生物大分子。碳原子性质不活泼，它的最外层有4 个电子，不易失去或得到电子而形成离子。在含碳化合物中，碳原子与其他原子通过共用电子对结合在一起。原子间通过共用电子对而形成的化学键叫共价键。碳原子之间也可以形成共价键，这样多个碳原子可以相互结合形成稳定的碳链。']"
      ]
     },
     "execution_count": 25,
     "metadata": {},
     "output_type": "execute_result"
    }
   ],
   "source": [
    "hybrid_results"
   ]
  }
 ],
 "metadata": {
  "kernelspec": {
   "display_name": "Python 3.12.9 ('langmanus')",
   "language": "python",
   "name": "python3"
  },
  "language_info": {
   "codemirror_mode": {
    "name": "ipython",
    "version": 3
   },
   "file_extension": ".py",
   "mimetype": "text/x-python",
   "name": "python",
   "nbconvert_exporter": "python",
   "pygments_lexer": "ipython3",
   "version": "3.12.9"
  },
  "orig_nbformat": 4,
  "vscode": {
   "interpreter": {
    "hash": "6826872b2e90c4a5b89db49ae6de9319427673b2cab0f057a3d6baa327072350"
   }
  }
 },
 "nbformat": 4,
 "nbformat_minor": 2
}
