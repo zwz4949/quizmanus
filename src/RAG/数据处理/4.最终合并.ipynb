{
 "cells": [
  {
   "cell_type": "code",
   "execution_count": 1,
   "metadata": {},
   "outputs": [],
   "source": [
    "import time\n",
    "import json\n",
    "import os\n",
    "import re\n",
    "from typing import List, Dict, Union\n",
    "from tqdm import tqdm\n",
    "\n",
    "\n",
    "\n",
    "\n",
    "import sys\n",
    "sys.path.append(\"/hpc2hdd/home/fye374/ZWZ_Other/quizmanus/src\")\n",
    "from utils import (\n",
    "    getData,\n",
    "    saveData,\n",
    "    get_absolute_file_paths,\n",
    "    get_json_result\n",
    ")\n"
   ]
  },
  {
   "cell_type": "code",
   "execution_count": 2,
   "metadata": {},
   "outputs": [],
   "source": [
    "dan = getData(\"/hpc2hdd/home/fye374/ZWZ_Other/quizmanus/dataset/课本md/高中/md/合并/3.伪问答对（大题）.json\")\n",
    "duo = getData(\"/hpc2hdd/home/fye374/ZWZ_Other/quizmanus/dataset/课本md/高中/md/合并/3.伪问答对（单选题）.json\")\n",
    "da = getData(\"/hpc2hdd/home/fye374/ZWZ_Other/quizmanus/dataset/课本md/高中/md/合并/3.伪问答对（多选题）.json\")"
   ]
  },
  {
   "cell_type": "code",
   "execution_count": 8,
   "metadata": {},
   "outputs": [],
   "source": [
    "import random \n",
    "random.seed(42)\n",
    "res = dan+duo +da\n",
    "final = [item for item in res if item['题干、参考答案、解析'] !=\"\"]"
   ]
  },
  {
   "cell_type": "code",
   "execution_count": 9,
   "metadata": {},
   "outputs": [],
   "source": [
    "random.shuffle(final)"
   ]
  },
  {
   "cell_type": "code",
   "execution_count": 12,
   "metadata": {},
   "outputs": [],
   "source": [
    "saveData(final,\"/hpc2hdd/home/fye374/ZWZ_Other/quizmanus/dataset/课本md/高中/md/合并/4.合并.json\")"
   ]
  },
  {
   "cell_type": "code",
   "execution_count": null,
   "metadata": {},
   "outputs": [],
   "source": [
    "{\"next\": \"rag_er\", \"next_step_content\": \"从高中生物知识库中检索关于'基因的自由组合定律'的知识，生成一道单选题。题目要求：基因的自由组合定律发生于下图中哪个过程（  ）\\nAaBb$\\stackrel{①}{→}$1AB：1Ab：1aB：1ab$\\stackrel{②}{→}$雌雄配子随机结合$\\stackrel{③}{→}$子代9种基因型$\\stackrel{④}{→}$4种表现型\\nA. ①  B. ②  C. ③  D. ④。知识点：基因的自由组合定律\"}"
   ]
  },
  {
   "cell_type": "code",
   "execution_count": 13,
   "metadata": {},
   "outputs": [
    {
     "data": {
      "text/plain": [
       "{'q_id': '7i0u24iqlusmf0xlzyob',\n",
       " 'id': 'iziwqkcqekofcw23iarr',\n",
       " 'title': '# 作品',\n",
       " 'content': '\\n作品，是指文学、艺术和科学领域内具有独创性并能以一定形式表现的智力成果，包括文字作品、口述作品、音乐作品、戏剧作品、美术作品、建筑作品、摄影作品、视听作品等。  \\n',\n",
       " 'grade': '选择性必修2',\n",
       " 'subject': '高中政治',\n",
       " 'modify_content': '作品，是指文学、艺术和科学领域内具有独创性并能以一定形式表现的智力成果，包括文字作品、口述作品、音乐作品、戏剧作品、美术作品、建筑作品、摄影作品、视听作品等。',\n",
       " '课本内容': '作品，是指文学、艺术和科学领域内具有独创性并能以一定形式表现的智力成果，包括文字作品、口述作品、音乐作品、戏剧作品、美术作品、建筑作品、摄影作品、视听作品等。',\n",
       " '课外内容': '在知识产权法律实践中，作品的独创性认定标准一直是司法争议焦点。以2021年北京互联网法院审理的短视频著作权案为例，法官首次从镜头语言、叙事结构等维度认定15秒短视频构成视听作品。该判决突破性地将数字时代新型创作纳入著作权法保护范围，体现了法律对技术变革的适应性。在国际法层面，《伯尔尼公约》第2条将建筑作品定义为\"以建筑或建筑性结构形式表现的作品\"，这一概念在2001年悉尼歌剧院著作权纠纷中发挥关键作用，澳大利亚联邦法院最终认定其独特壳体结构具有艺术独创性。近年来，欧盟《数字单一市场版权指令》创设了\"新闻出版物邻接权\"，赋予报社对网络平台转载新闻摘要的获酬权，这标志着文字作品保护向数字化传播领域延伸。人工智能创作领域，美国版权局2023年发布新规，明确要求人工智能生成内容必须包含人类作者\"创造性控制\"才能登记注册，这一标准正在重塑计算机软件类作品的认定边界。',\n",
       " 'reasoning': '好的，我现在需要根据用户提供的课本内容和课外内容生成一道高考多选题。首先，我要仔细阅读这两部分内容，确保理解其中的关键点。\\n\\n课本内容部分主要介绍了作品的定义，强调其需要具备独创性并能以一定形式表现，列举了各种类型的作品，如文字、口述、音乐、戏剧、美术、建筑、摄影、视听作品等。这里的关键词是“独创性”和“不同形式的智力成果”。\\n\\n课外内容部分提供了多个案例和法律条款，涉及短视频的著作权认定、建筑作品的定义在悉尼歌剧院案例中的应用、欧盟的新闻出版物邻接权，以及美国关于AI生成内容的规定。这些例子展示了不同情况下独创性的判定和法律适用情况，尤其是新技术和数字化带来的挑战。\\n\\n接下来，我需要将两者结合起来，找出可能的多选题考点。课本中的核心是作品的定义和构成要件，而课外内容提供了具体的实例和扩展。可能的考点包括：作品的定义要素、不同作品类型的例子、法律实践中对独创性的具体判定标准、国际公约的相关条款、数字化时代的新规定等。\\n\\n多选题需要四个选项，其中正确答案应涵盖课本知识点和课外延伸的内容。例如，选项可能涉及作品必须具备的条件（独创性、可表现性）、具体案例中的法律判定（如短视频是否构成视听作品）、国际公约对建筑作品的定义，以及AI生成内容的条件（人类创造性控制）。\\n\\n需要确保选项中的正确选项与课本内容一致，同时课外内容中的案例作为干扰项或正确选项的一部分。例如，关于建筑作品的定义，《伯尔尼公约》在课外内容中提到了，而课本也提到了建筑作品属于作品的一种，所以这可能是一个正确选项。另外，短视频被认定为视听作品属于课外案例，但符合课本中视听作品的定义，因此也应该正确。\\n\\n干扰项可能包括需要固定载体（课本中没有此要求，只要以一定形式表现即可），或计算机软件类作品无需人类参与（课外中提到AI生成需要人类控制，所以此为错误）。\\n\\n最后，解析部分需要明确每个选项的正确或错误原因，结合课本和课外内容进行解释。确保逻辑严谨，没有矛盾。',\n",
       " '题干、参考答案、解析': \"根据我国著作权法相关规定，下列哪些表述符合受保护作品的认定标准？\\nA. 15秒短视频通过镜头语言展现叙事结构即可构成视听作品\\nB. 建筑作品必须具有艺术独创性的壳体结构设计\\nC. 人工智能生成内容完全由算法自主完成时可登记为软件作品\\nD. 新闻摘要的网络传播需向原创媒体支付著作权使用费\\n参考答案：ABD\\n解析：A正确，依据材料中北京互联网法院将具备镜头语言组织的短视频认定为视听作品；B正确，《伯尔尼公约》明确建筑作品需艺术性表达，悉尼歌剧院案例印证此标准；C错误，美国版权局要求AI生成内容必须包含人类创造性控制；D正确，欧盟指令规定新闻摘要传播需获酬，属于文字作品保护延伸。需注意C选项的迷惑性，虽然涉及软件类作品，但缺乏'创造性控制'要件。\",\n",
       " 'type': '多选题'}"
      ]
     },
     "execution_count": 13,
     "metadata": {},
     "output_type": "execute_result"
    }
   ],
   "source": [
    "final[0]"
   ]
  },
  {
   "cell_type": "code",
   "execution_count": null,
   "metadata": {},
   "outputs": [],
   "source": []
  }
 ],
 "metadata": {
  "kernelspec": {
   "display_name": "Python 3.12.9 ('langmanus': conda)",
   "language": "python",
   "name": "python3"
  },
  "language_info": {
   "codemirror_mode": {
    "name": "ipython",
    "version": 3
   },
   "file_extension": ".py",
   "mimetype": "text/x-python",
   "name": "python",
   "nbconvert_exporter": "python",
   "pygments_lexer": "ipython3",
   "version": "3.12.9"
  },
  "orig_nbformat": 4,
  "vscode": {
   "interpreter": {
    "hash": "6826872b2e90c4a5b89db49ae6de9319427673b2cab0f057a3d6baa327072350"
   }
  }
 },
 "nbformat": 4,
 "nbformat_minor": 2
}
