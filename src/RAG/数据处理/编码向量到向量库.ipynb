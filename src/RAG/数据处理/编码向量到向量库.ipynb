{
 "cells": [
  {
   "cell_type": "code",
   "execution_count": 1,
   "metadata": {},
   "outputs": [],
   "source": [
    "import sys\n",
    "sys.path.append('/hpc2hdd/home/fye374/ZWZ_Other/quizmanus/src/RAG')\n",
    "from vector_store_utils import *\n",
    "import sys\n",
    "sys.path.append('/hpc2hdd/home/fye374/ZWZ_Other/quizmanus/src')\n",
    "from utils import *"
   ]
  },
  {
   "cell_type": "code",
   "execution_count": 2,
   "metadata": {},
   "outputs": [
    {
     "data": {
      "text/plain": [
       "{'id': 'qvrr9a7mfp059p452bfs',\n",
       " 'title': '# 独立权 管辖权 平等权 自卫权',\n",
       " 'content': '\\n◆ 独立权，是指主权国家拥有按照自己的意志处理内政、外交事务而不受他国控制和干涉的权利。  \\n\\n◆ 管辖权，是指主权国家对其领域内的一切人和物具有管辖的权利。  \\n\\n◆ 平等权，是指主权国家不论大小、强弱，也不论政治、经济、意识形态和社会制度有何差异，在国际法上的地位一律平等。  \\n\\n◆ 自卫权，是指主权国家拥有保卫自己的生存和独立的权利。  \\n',\n",
       " 'grade': '选择性必修1',\n",
       " 'subject': '高中政治',\n",
       " 'modify_content': '独立权，是指主权国家拥有按照自己的意志处理内政、外交事务而不受他国控制和干涉的权利。\\n\\n管辖权，是指主权国家对其领域内的一切人和物具有管辖的权利。\\n\\n平等权，是指主权国家不论大小、强弱，也不论政治、经济、意识形态和社会制度有何差异，在国际法上的地位一律平等。\\n\\n自卫权，是指主权国家拥有保卫自己的生存和独立的权利。',\n",
       " '课本内容': '独立权，是指主权国家拥有按照自己的意志处理内政、外交事务而不受他国控制和干涉的权利。\\n\\n管辖权，是指主权国家对其领域内的一切人和物具有管辖的权利。\\n\\n平等权，是指主权国家不论大小、强弱，也不论政治、经济、意识形态和社会制度有何差异，在国际法上的地位一律平等。\\n\\n自卫权，是指主权国家拥有保卫自己的生存和独立的权利。',\n",
       " '课外内容': '在国际法框架下，主权国家四大基本权利的现实实践具有多维度的体现。以独立权为例，2023年不结盟运动峰会上，印度尼西亚公开拒绝大国干预其镍矿出口政策，援引《联合国宪章》第二条第七款阐明其经济自主权。管辖权在孟晚舟引渡案中得到具象化呈现：加拿大依据属地管辖原则实施司法程序，而中国则启动领事保护机制主张属人管辖权，该案件成为研究国家管辖权竞合冲突的经典案例。平等权的当代实践体现于2022年联合国大会表决俄国决议草案时，圣多美和普林西比（人口21万）与印度（13亿人口）享有同等表决权重，这一制度设计深刻反映了主权平等原则。自卫权的法律边界在2020年伊朗圣城旅指挥官苏莱曼尼遇袭事件中引发全球讨论，多国法学家援引《联合国宪章》第51条，就预防性自卫的合法性展开激烈辩论。日内瓦国际关系研究院2023年报告指出，四大权利在实践中存在重叠与张力，如美国依据《云法案》主张数据跨境管辖权时，常与他国独立权产生冲突，这种现象推动着国际法体系的动态演进。'}"
      ]
     },
     "execution_count": 2,
     "metadata": {},
     "output_type": "execute_result"
    }
   ],
   "source": [
    "alll = getData(\"/hpc2hdd/home/fye374/ZWZ_Other/quizmanus/dataset/课本md/高中/md/合并/2.加课外内容.json\")\n",
    "alll[0]"
   ]
  },
  {
   "cell_type": "code",
   "execution_count": 3,
   "metadata": {},
   "outputs": [
    {
     "data": {
      "text/plain": [
       "4107"
      ]
     },
     "execution_count": 3,
     "metadata": {},
     "output_type": "execute_result"
    }
   ],
   "source": [
    "len(alll)"
   ]
  },
  {
   "cell_type": "code",
   "execution_count": 4,
   "metadata": {},
   "outputs": [],
   "source": [
    "data_type = \"从全部数据导入\"\n",
    "import os\n",
    "if data_type == \"从未清洗数据得到\":\n",
    "    subjects = [\"高中生物\",\"高中历史\",\"高中地理\",\"高中政治\"]\n",
    "    all_res  = []\n",
    "    all_text = []\n",
    "    for sub in subjects:\n",
    "        paths = get_absolute_file_paths(os.path.join(\"/hpc2hdd/home/fye374/ZWZ_Other/quizmanus/dataset/课本md/初中\",sub),\"json\")\n",
    "        for path in paths:\n",
    "            grade = path.split(\"/\")[-1].split(\" \")[-1].split(\".\")[0]\n",
    "            res = getData(path)\n",
    "            new_res = []\n",
    "            new_text = []\n",
    "            for item in res:\n",
    "                new_res.append({\"subject\":sub,\"grade\":grade,\"title\":item['title'].strip(),\"content\":item['content'].strip()})\n",
    "                new_text.append(item['content'].strip())\n",
    "            all_res.extend(new_res)\n",
    "            all_text.extend(new_text)\n",
    "else:\n",
    "    alll = getData(\"/hpc2hdd/home/fye374/ZWZ_Other/quizmanus/dataset/课本md/高中/md/合并/2.加课外内容.json\")\n",
    "    all_res  = []\n",
    "    all_text = []\n",
    "    for item in alll:\n",
    "        all_res.append({\"subject\":item['subject'].strip(),\"grade\":item['grade'].strip(),\"title\":item['title'].strip(),\"content\":item['课本内容'].strip()})\n",
    "        all_text.append(item['content'].strip())\n",
    "\n"
   ]
  },
  {
   "cell_type": "code",
   "execution_count": 5,
   "metadata": {},
   "outputs": [
    {
     "name": "stderr",
     "output_type": "stream",
     "text": [
      "/hpc2hdd/home/fye374/.conda/envs/langmanus/lib/python3.12/site-packages/tqdm/auto.py:21: TqdmWarning: IProgress not found. Please update jupyter and ipywidgets. See https://ipywidgets.readthedocs.io/en/stable/user_install.html\n",
      "  from .autonotebook import tqdm as notebook_tqdm\n",
      "pre tokenize: 100%|██████████| 257/257 [00:01<00:00, 222.22it/s]\n",
      "You're using a XLMRobertaTokenizerFast tokenizer. Please note that with a fast tokenizer, using the `__call__` method is faster than using a method to encode the text followed by a call to the `pad` method to get a padded encoding.\n",
      "Inference Embeddings: 100%|██████████| 257/257 [00:35<00:00,  7.32it/s]\n"
     ]
    }
   ],
   "source": [
    "from milvus_model.hybrid import BGEM3EmbeddingFunction\n",
    "\n",
    "ef = BGEM3EmbeddingFunction(\n",
    "    model_name = \"/hpc2hdd/home/fye374/models/BAAI/bge-m3\",\n",
    "    use_fp16=False, \n",
    "    device=\"cuda:0\")\n",
    "dense_dim = ef.dim[\"dense\"]\n",
    "\n",
    "docs_embeddings = ef(all_text)\n"
   ]
  },
  {
   "cell_type": "code",
   "execution_count": 6,
   "metadata": {},
   "outputs": [
    {
     "name": "stdout",
     "output_type": "stream",
     "text": [
      "collection subjects not found, 请创建collection\n"
     ]
    }
   ],
   "source": [
    "import sys\n",
    "sys.path.append(\"/hpc2hdd/home/fye374/ZWZ_Other/quizmanus\")\n",
    "from src.config.rag import DB_URI,COLLECTION_NAME\n",
    "from src.RAG.vector_store_utils import *\n",
    "db_uri = DB_URI\n",
    "col_name = COLLECTION_NAME\n",
    "col = get_collection(db_uri,col_name)"
   ]
  },
  {
   "cell_type": "code",
   "execution_count": null,
   "metadata": {},
   "outputs": [],
   "source": [
    "# collection_info = col.describe()\n",
    "# # collection_info"
   ]
  },
  {
   "cell_type": "code",
   "execution_count": null,
   "metadata": {},
   "outputs": [],
   "source": [
    "# iterator = col.query_iterator(\n",
    "#     batch_size=10,\n",
    "#     expr=None,\n",
    "#     output_fields=[\"subject\"]\n",
    "# )\n",
    "\n",
    "# value_set = set()\n",
    "\n",
    "# while True:\n",
    "#     result = iterator.next()\n",
    "#     if not result:\n",
    "#         iterator.close()\n",
    "#         break\n",
    "    \n",
    "#     for item in result:\n",
    "#         value_set.add(item[\"subject\"])\n",
    "# col.release()"
   ]
  },
  {
   "cell_type": "code",
   "execution_count": null,
   "metadata": {},
   "outputs": [],
   "source": [
    "# value_set"
   ]
  },
  {
   "cell_type": "code",
   "execution_count": 7,
   "metadata": {},
   "outputs": [
    {
     "name": "stdout",
     "output_type": "stream",
     "text": [
      "collection subjects 创建成功，并返回它\n"
     ]
    }
   ],
   "source": [
    "col = create_collection(db_uri,col_name, dense_dim)"
   ]
  },
  {
   "cell_type": "code",
   "execution_count": null,
   "metadata": {},
   "outputs": [],
   "source": [
    "all_res[0]"
   ]
  },
  {
   "cell_type": "code",
   "execution_count": 8,
   "metadata": {},
   "outputs": [
    {
     "name": "stderr",
     "output_type": "stream",
     "text": [
      "100%|██████████| 4107/4107 [00:48<00:00, 84.77it/s]"
     ]
    },
    {
     "name": "stdout",
     "output_type": "stream",
     "text": [
      "添加成功\n"
     ]
    },
    {
     "name": "stderr",
     "output_type": "stream",
     "text": [
      "\n"
     ]
    }
   ],
   "source": [
    "add_data(col, all_res,docs_embeddings)"
   ]
  },
  {
   "cell_type": "markdown",
   "metadata": {},
   "source": [
    "# 检索示例"
   ]
  },
  {
   "cell_type": "code",
   "execution_count": null,
   "metadata": {},
   "outputs": [],
   "source": [
    "print("
   ]
  },
  {
   "cell_type": "code",
   "execution_count": null,
   "metadata": {},
   "outputs": [],
   "source": [
    "from milvus_model.hybrid import BGEM3EmbeddingFunction\n",
    "\n",
    "ef = BGEM3EmbeddingFunction(\n",
    "    model_name = \"/hpc2hdd/home/fye374/models/BAAI/bge-m3\",\n",
    "    use_fp16=False, \n",
    "    device=\"cuda:0\")"
   ]
  },
  {
   "cell_type": "code",
   "execution_count": null,
   "metadata": {},
   "outputs": [],
   "source": [
    "# query = input(\"Enter your search query: \")\n",
    "# print(query)\n",
    "query = \"生物微分子\"\n",
    "query_embeddings = ef([query])\n"
   ]
  },
  {
   "cell_type": "code",
   "execution_count": null,
   "metadata": {},
   "outputs": [],
   "source": [
    "import sys\n",
    "sys.path.append('/hpc2hdd/home/fye374/ZWZ_Other/quizmanus/src/RAG')\n",
    "from retrieval import *\n",
    "from reranker import *"
   ]
  },
  {
   "cell_type": "code",
   "execution_count": null,
   "metadata": {},
   "outputs": [],
   "source": [
    "db_uri = \"/hpc2hdd/home/fye374/ZWZ_Other/quizmanus/src/RAG/vector_store/subjects.db\"\n",
    "col_name = \"subjects\"\n",
    "col = get_collection(db_uri,col_name)\n",
    "dense_results = dense_search(col, query_embeddings[\"dense\"][0])\n",
    "sparse_results = sparse_search(col, query_embeddings[\"sparse\"]._getrow(0))\n",
    "hybrid_results = hybrid_search(\n",
    "    col,\n",
    "    query_embeddings[\"dense\"][0],\n",
    "    query_embeddings[\"sparse\"]._getrow(0),\n",
    "    sparse_weight=0.7,\n",
    "    dense_weight=1.0,\n",
    ")\n",
    "# /hpc2hdd/home/fye374/ZWZ_Other/quizmanus/src/RAG/vector_store"
   ]
  },
  {
   "cell_type": "code",
   "execution_count": null,
   "metadata": {},
   "outputs": [],
   "source": [
    "rerank(query, hybrid_results)"
   ]
  },
  {
   "cell_type": "code",
   "execution_count": null,
   "metadata": {},
   "outputs": [],
   "source": [
    "hybrid_results"
   ]
  }
 ],
 "metadata": {
  "kernelspec": {
   "display_name": "Python 3.12.9 ('langmanus')",
   "language": "python",
   "name": "python3"
  },
  "language_info": {
   "codemirror_mode": {
    "name": "ipython",
    "version": 3
   },
   "file_extension": ".py",
   "mimetype": "text/x-python",
   "name": "python",
   "nbconvert_exporter": "python",
   "pygments_lexer": "ipython3",
   "version": "3.12.9"
  },
  "orig_nbformat": 4,
  "vscode": {
   "interpreter": {
    "hash": "6826872b2e90c4a5b89db49ae6de9319427673b2cab0f057a3d6baa327072350"
   }
  }
 },
 "nbformat": 4,
 "nbformat_minor": 2
}
